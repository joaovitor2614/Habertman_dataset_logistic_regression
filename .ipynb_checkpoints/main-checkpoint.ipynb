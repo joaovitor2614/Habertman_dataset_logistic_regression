{
 "cells": [
  {
   "cell_type": "code",
   "execution_count": 50,
   "id": "d0a83f31",
   "metadata": {},
   "outputs": [
    {
     "data": {
      "text/html": [
       "<div>\n",
       "<style scoped>\n",
       "    .dataframe tbody tr th:only-of-type {\n",
       "        vertical-align: middle;\n",
       "    }\n",
       "\n",
       "    .dataframe tbody tr th {\n",
       "        vertical-align: top;\n",
       "    }\n",
       "\n",
       "    .dataframe thead th {\n",
       "        text-align: right;\n",
       "    }\n",
       "</style>\n",
       "<table border=\"1\" class=\"dataframe\">\n",
       "  <thead>\n",
       "    <tr style=\"text-align: right;\">\n",
       "      <th></th>\n",
       "      <th>Age</th>\n",
       "      <th>Year of operation</th>\n",
       "      <th>Nodes</th>\n",
       "      <th>Result</th>\n",
       "    </tr>\n",
       "  </thead>\n",
       "  <tbody>\n",
       "    <tr>\n",
       "      <th>0</th>\n",
       "      <td>30</td>\n",
       "      <td>62</td>\n",
       "      <td>3</td>\n",
       "      <td>1</td>\n",
       "    </tr>\n",
       "    <tr>\n",
       "      <th>1</th>\n",
       "      <td>30</td>\n",
       "      <td>65</td>\n",
       "      <td>0</td>\n",
       "      <td>1</td>\n",
       "    </tr>\n",
       "    <tr>\n",
       "      <th>2</th>\n",
       "      <td>31</td>\n",
       "      <td>59</td>\n",
       "      <td>2</td>\n",
       "      <td>1</td>\n",
       "    </tr>\n",
       "    <tr>\n",
       "      <th>3</th>\n",
       "      <td>31</td>\n",
       "      <td>65</td>\n",
       "      <td>4</td>\n",
       "      <td>1</td>\n",
       "    </tr>\n",
       "    <tr>\n",
       "      <th>4</th>\n",
       "      <td>33</td>\n",
       "      <td>58</td>\n",
       "      <td>10</td>\n",
       "      <td>1</td>\n",
       "    </tr>\n",
       "    <tr>\n",
       "      <th>...</th>\n",
       "      <td>...</td>\n",
       "      <td>...</td>\n",
       "      <td>...</td>\n",
       "      <td>...</td>\n",
       "    </tr>\n",
       "    <tr>\n",
       "      <th>300</th>\n",
       "      <td>75</td>\n",
       "      <td>62</td>\n",
       "      <td>1</td>\n",
       "      <td>1</td>\n",
       "    </tr>\n",
       "    <tr>\n",
       "      <th>301</th>\n",
       "      <td>76</td>\n",
       "      <td>67</td>\n",
       "      <td>0</td>\n",
       "      <td>1</td>\n",
       "    </tr>\n",
       "    <tr>\n",
       "      <th>302</th>\n",
       "      <td>77</td>\n",
       "      <td>65</td>\n",
       "      <td>3</td>\n",
       "      <td>1</td>\n",
       "    </tr>\n",
       "    <tr>\n",
       "      <th>303</th>\n",
       "      <td>78</td>\n",
       "      <td>65</td>\n",
       "      <td>1</td>\n",
       "      <td>2</td>\n",
       "    </tr>\n",
       "    <tr>\n",
       "      <th>304</th>\n",
       "      <td>83</td>\n",
       "      <td>58</td>\n",
       "      <td>2</td>\n",
       "      <td>2</td>\n",
       "    </tr>\n",
       "  </tbody>\n",
       "</table>\n",
       "<p>305 rows × 4 columns</p>\n",
       "</div>"
      ],
      "text/plain": [
       "     Age  Year of operation  Nodes  Result\n",
       "0     30                 62      3       1\n",
       "1     30                 65      0       1\n",
       "2     31                 59      2       1\n",
       "3     31                 65      4       1\n",
       "4     33                 58     10       1\n",
       "..   ...                ...    ...     ...\n",
       "300   75                 62      1       1\n",
       "301   76                 67      0       1\n",
       "302   77                 65      3       1\n",
       "303   78                 65      1       2\n",
       "304   83                 58      2       2\n",
       "\n",
       "[305 rows x 4 columns]"
      ]
     },
     "execution_count": 50,
     "metadata": {},
     "output_type": "execute_result"
    }
   ],
   "source": [
    "import pandas as pd\n",
    "import numpy as np\n",
    "from sklearn.model_selection import train_test_split\n",
    "from sklearn.model_selection import train_test_split\n",
    "import matplotlib.pyplot as plt\n",
    "from sklearn import preprocessing\n",
    "from sklearn.linear_model import LogisticRegression\n",
    "# Load data\n",
    "\n",
    "filename = 'haberman.data'\n",
    "df = pd.read_csv(filename)\n",
    "# Haberman survival dataset\n",
    "# first column: pacient's age\n",
    "# second column: year of operation\n",
    "# third column: number nodes\n",
    "# Fourth column: 1 (Surivved) - 2 (Died)\n",
    "df.columns = [\"Age\",\"Year of operation\",\"Nodes\", \"Result\"]\n",
    "df\n",
    "\n"
   ]
  },
  {
   "cell_type": "code",
   "execution_count": null,
   "id": "7d676468",
   "metadata": {},
   "outputs": [],
   "source": []
  },
  {
   "cell_type": "code",
   "execution_count": 51,
   "id": "53c256e8",
   "metadata": {},
   "outputs": [
    {
     "data": {
      "text/html": [
       "<div>\n",
       "<style scoped>\n",
       "    .dataframe tbody tr th:only-of-type {\n",
       "        vertical-align: middle;\n",
       "    }\n",
       "\n",
       "    .dataframe tbody tr th {\n",
       "        vertical-align: top;\n",
       "    }\n",
       "\n",
       "    .dataframe thead th {\n",
       "        text-align: right;\n",
       "    }\n",
       "</style>\n",
       "<table border=\"1\" class=\"dataframe\">\n",
       "  <thead>\n",
       "    <tr style=\"text-align: right;\">\n",
       "      <th></th>\n",
       "      <th>Age</th>\n",
       "      <th>Year of operation</th>\n",
       "      <th>Nodes</th>\n",
       "      <th>Result</th>\n",
       "    </tr>\n",
       "  </thead>\n",
       "  <tbody>\n",
       "    <tr>\n",
       "      <th>0</th>\n",
       "      <td>30</td>\n",
       "      <td>62</td>\n",
       "      <td>3</td>\n",
       "      <td>1</td>\n",
       "    </tr>\n",
       "    <tr>\n",
       "      <th>1</th>\n",
       "      <td>30</td>\n",
       "      <td>65</td>\n",
       "      <td>0</td>\n",
       "      <td>1</td>\n",
       "    </tr>\n",
       "    <tr>\n",
       "      <th>2</th>\n",
       "      <td>31</td>\n",
       "      <td>59</td>\n",
       "      <td>2</td>\n",
       "      <td>1</td>\n",
       "    </tr>\n",
       "    <tr>\n",
       "      <th>3</th>\n",
       "      <td>31</td>\n",
       "      <td>65</td>\n",
       "      <td>4</td>\n",
       "      <td>1</td>\n",
       "    </tr>\n",
       "    <tr>\n",
       "      <th>4</th>\n",
       "      <td>33</td>\n",
       "      <td>58</td>\n",
       "      <td>10</td>\n",
       "      <td>1</td>\n",
       "    </tr>\n",
       "    <tr>\n",
       "      <th>...</th>\n",
       "      <td>...</td>\n",
       "      <td>...</td>\n",
       "      <td>...</td>\n",
       "      <td>...</td>\n",
       "    </tr>\n",
       "    <tr>\n",
       "      <th>300</th>\n",
       "      <td>75</td>\n",
       "      <td>62</td>\n",
       "      <td>1</td>\n",
       "      <td>1</td>\n",
       "    </tr>\n",
       "    <tr>\n",
       "      <th>301</th>\n",
       "      <td>76</td>\n",
       "      <td>67</td>\n",
       "      <td>0</td>\n",
       "      <td>1</td>\n",
       "    </tr>\n",
       "    <tr>\n",
       "      <th>302</th>\n",
       "      <td>77</td>\n",
       "      <td>65</td>\n",
       "      <td>3</td>\n",
       "      <td>1</td>\n",
       "    </tr>\n",
       "    <tr>\n",
       "      <th>303</th>\n",
       "      <td>78</td>\n",
       "      <td>65</td>\n",
       "      <td>1</td>\n",
       "      <td>0</td>\n",
       "    </tr>\n",
       "    <tr>\n",
       "      <th>304</th>\n",
       "      <td>83</td>\n",
       "      <td>58</td>\n",
       "      <td>2</td>\n",
       "      <td>0</td>\n",
       "    </tr>\n",
       "  </tbody>\n",
       "</table>\n",
       "<p>305 rows × 4 columns</p>\n",
       "</div>"
      ],
      "text/plain": [
       "     Age  Year of operation  Nodes  Result\n",
       "0     30                 62      3       1\n",
       "1     30                 65      0       1\n",
       "2     31                 59      2       1\n",
       "3     31                 65      4       1\n",
       "4     33                 58     10       1\n",
       "..   ...                ...    ...     ...\n",
       "300   75                 62      1       1\n",
       "301   76                 67      0       1\n",
       "302   77                 65      3       1\n",
       "303   78                 65      1       0\n",
       "304   83                 58      2       0\n",
       "\n",
       "[305 rows x 4 columns]"
      ]
     },
     "execution_count": 51,
     "metadata": {},
     "output_type": "execute_result"
    }
   ],
   "source": [
    "#Treat data\n",
    "# Because logistic regression is binary operator we have to 0 or 1 target values\n",
    "# We will convert the 2's into 0's to represent that the pacient has died\n",
    "df.loc[df['Result'] == 2, 'Result'] = 0\n",
    "df"
   ]
  },
  {
   "cell_type": "code",
   "execution_count": 60,
   "id": "f9fb9f4d",
   "metadata": {},
   "outputs": [
    {
     "name": "stdout",
     "output_type": "stream",
     "text": [
      "sha (305,)\n"
     ]
    }
   ],
   "source": [
    "# Normalize input data\n",
    "# Split between train and test sets\n",
    "min_max_scaler = preprocessing.MinMaxScaler(feature_range=(-1,1))\n",
    "X = df[[\"Age\",\"Year of operation\", \"Nodes\"]]\n",
    "X = np.array(X)\n",
    "X = min_max_scaler.fit_transform(X)\n",
    "Y = df[\"Result\"]\n",
    "Y = np.array(Y)\n",
    "\n",
    "\n",
    "X_train,X_test,Y_train,Y_test = train_test_split(X,Y,test_size=0.33)\n"
   ]
  },
  {
   "cell_type": "markdown",
   "id": "ee68dd69",
   "metadata": {},
   "source": [
    "The activate function to make the precitions in logistic regression is the sigmoid function:\n",
    "$ a\\:=\\:\\frac{1}{1+e^{-z}} $\n",
    "Where z is igual a output of a linear function of the parameters w and b:\n",
    "$ z = w^T\\cdot x+b $"
   ]
  },
  {
   "cell_type": "code",
   "execution_count": 53,
   "id": "ed954390",
   "metadata": {},
   "outputs": [],
   "source": [
    "\n",
    "def sigmoid(z):\n",
    "    z = np.clip( z, -500, 500 )           # protect against overflow\n",
    "    return 1.0/(1.0+np.exp(-z))"
   ]
  },
  {
   "cell_type": "markdown",
   "id": "3d8f0a32",
   "metadata": {},
   "source": [
    "The cost function used in logistic regression is:\n",
    "$ J\\left(w,\\:b\\right)\\:=-\\frac{1}{m}\\sum _{i=1}^m\\left(ylog\\left(a\\right)\\:+\\:\\left(1-y\\right)\\cdot log\\left(1-a\\right)\\right) $\n",
    "where m is the number of training samples, a is the prediction and y is the actual target value"
   ]
  },
  {
   "cell_type": "code",
   "execution_count": 54,
   "id": "44acf226",
   "metadata": {},
   "outputs": [],
   "source": [
    "def logistic_regression_cost(X, y, w, b):\n",
    "    cost = 0.0\n",
    "    m = X.shape[0]\n",
    "\n",
    "    for i in range(m):\n",
    "        a = sigmoid(np.dot(X[i], w) + b)\n",
    "        cost += -y[i]*np.log(a) - (1-y[i])*np.log(1-a)\n",
    "        \n",
    "    cost = cost / (m)\n",
    "    \n",
    "    return cost\n",
    "\n",
    "def compute_gradient(X, y, w, b):\n",
    "    \n",
    "    m, n = X.shape\n",
    "\n",
    "    dj_dw = np.zeros((n,))\n",
    "    dj_db = 0.\n",
    "\n",
    "\n",
    "    for i in range(m):\n",
    "        a = sigmoid(np.dot(X[i], w) + b)\n",
    "   \n",
    "        for j in range(n):\n",
    "         \n",
    "            dj_dw[j] += (a - y[i])*X[i,j]\n",
    "        dj_db += (a - y[i])\n",
    "        \n",
    "    dj_dw = dj_dw / m\n",
    "    dj_db = dj_db / m\n",
    "    \n",
    "    return dj_dw, dj_db"
   ]
  },
  {
   "cell_type": "code",
   "execution_count": 55,
   "id": "a84d482b",
   "metadata": {},
   "outputs": [
    {
     "name": "stdout",
     "output_type": "stream",
     "text": [
      "Final cost 0.5404050335000312\n",
      "Final parameters:  w [-0.40736509  0.25755106 -1.60070484] b -0.2789415283279462\n",
      "Final cost 0.5404050335000312\n"
     ]
    }
   ],
   "source": [
    "def learn_parameters(X, y, w_initial, b_initial, num_iters, lambda_):\n",
    "      J_cost_history = list()\n",
    "      w = w_initial\n",
    "      b = b_initial\n",
    "      \n",
    "      \n",
    "      for i in range(num_iters):\n",
    "          current_cost = logistic_regression_cost(X, y, w, b)\n",
    "          J_cost_history.append(current_cost)\n",
    "          dj_dw, dj_db = compute_gradient(X, y, w, b)\n",
    "          w = w - lambda_ * dj_dw\n",
    "          b = b - lambda_ * dj_db\n",
    "      \n",
    "      return w, b, J_cost_history\n",
    "    \n",
    "num_iters = 4000\n",
    "lambda_ = 0.1\n",
    "w_initial = [2.5, 7.0, 1.0]\n",
    "b_initial = 1.0\n",
    "\n",
    "w, b, J_cost_history = learn_parameters(X_train, Y_train, w_initial, b_initial, num_iters, lambda_)\n",
    "print('Final cost', J_cost_history[len(J_cost_history) - 1])\n",
    "print('Final parameters: ', 'w', w, 'b', b)\n"
   ]
  },
  {
   "cell_type": "code",
   "execution_count": 59,
   "id": "49cc789d",
   "metadata": {},
   "outputs": [
    {
     "data": {
      "text/plain": [
       "Text(0.5, 1.0, 'Cost per iteration')"
      ]
     },
     "execution_count": 59,
     "metadata": {},
     "output_type": "execute_result"
    },
    {
     "data": {
      "image/png": "[encoded data removed]",
      "text/plain": [
       "<Figure size 400x400 with 1 Axes>"
      ]
     },
     "metadata": {},
     "output_type": "display_data"
    }
   ],
   "source": [
    "# Visualize cost decreasing by iteration\n",
    "fig,ax = plt.subplots(1,1,figsize=(4,4))\n",
    "ax.plot(range(num_iters), J_cost_history)\n",
    "ax.set_ylabel('Cost', fontsize=12)\n",
    "ax.set_xlabel('Iteration', fontsize=12)\n",
    "ax.set_title('Cost per iteration')"
   ]
  },
  {
   "cell_type": "code",
   "execution_count": 69,
   "id": "b62fd306",
   "metadata": {},
   "outputs": [
    {
     "name": "stdout",
     "output_type": "stream",
     "text": [
      "Y_predicted [0 0 0 0 0 1 0 0 0 0 0 0 0 0 0 0 0 0 0 0 0 0 0 0 0 0 0 0 0 0 0 0 0 0 0 0 0\n",
      " 0 0 0 0 0 0 0 0 0 0 0 0 0 0 0 0 0 0 0 0 0 0 0 0 0 1 0 0 0 0 0 0 0 0 0 0 0\n",
      " 0 0 0 0 0 0 0 0 0 0 0 0 0 0 0 0 0 1 0 0 0 0 0 0 0 0 0]\n",
      "Y_test [0 1 1 1 0 0 1 1 1 1 1 0 0 1 1 1 1 0 0 0 0 0 1 1 1 1 1 1 1 1 1 1 1 0 1 0 0\n",
      " 1 0 1 0 0 0 1 1 0 1 1 1 1 1 0 0 0 1 1 0 0 1 1 0 1 1 1 1 1 1 1 1 0 1 1 1 1\n",
      " 0 1 0 1 0 1 1 1 1 1 1 1 1 1 1 1 1 1 1 1 0 0 0 1 1 1 1]\n"
     ]
    }
   ],
   "source": [
    "# Predict values\n",
    "def predict_values(X, w, b, threshold):\n",
    "    m = X.shape[0]\n",
    "    Y_predicted = list()\n",
    "    \n",
    "    for i in range(m):\n",
    "        \n",
    "        predicted_y = sigmoid(np.dot(X[i],w) + b)\n",
    "        predicted_class = 1 if predicted_y >= threshold else 0\n",
    "        Y_predicted.append(predicted_class)\n",
    "        \n",
    "    return np.array(Y_predicted)\n",
    "\n",
    "Y_predicted = predict_values(X_test, w, b, 0.5)\n",
    "print('Y_predicted', Y_predicted)\n",
    "print('Y_test', Y_test)"
   ]
  },
  {
   "cell_type": "code",
   "execution_count": 70,
   "id": "2fe2b03b",
   "metadata": {},
   "outputs": [
    {
     "name": "stdout",
     "output_type": "stream",
     "text": [
      "              precision    recall  f1-score   support\n",
      "\n",
      "           0       0.31      0.97      0.47        31\n",
      "           1       0.67      0.03      0.05        70\n",
      "\n",
      "    accuracy                           0.32       101\n",
      "   macro avg       0.49      0.50      0.26       101\n",
      "weighted avg       0.56      0.32      0.18       101\n",
      "\n"
     ]
    }
   ],
   "source": [
    "# Compute accuracy\n",
    "from sklearn.metrics import classification_report\n",
    "print(classification_report(Y_test, Y_predicted))"
   ]
  },
  {
   "cell_type": "code",
   "execution_count": null,
   "id": "09834cc9",
   "metadata": {},
   "outputs": [],
   "source": []
  }
 ],
 "metadata": {
  "kernelspec": {
   "display_name": "Python 3 (ipykernel)",
   "language": "python",
   "name": "python3"
  },
  "language_info": {
   "codemirror_mode": {
    "name": "ipython",
    "version": 3
   },
   "file_extension": ".py",
   "mimetype": "text/x-python",
   "name": "python",
   "nbconvert_exporter": "python",
   "pygments_lexer": "ipython3",
   "version": "3.9.12"
  }
 },
 "nbformat": 4,
 "nbformat_minor": 5
}
